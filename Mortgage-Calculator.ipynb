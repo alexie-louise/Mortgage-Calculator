{
 "cells": [
  {
   "cell_type": "code",
   "execution_count": 1,
   "id": "72ec4c60-c4f5-4584-9388-95f1604c2c66",
   "metadata": {},
   "outputs": [],
   "source": [
    "\"\"\"\n",
    "m = \n",
    "Input:\n",
    "1) p = principal\n",
    "2) i = yearly interest rate\n",
    "3) n = loan duration in years\n",
    "\n",
    "Output:\n",
    "1) return dictionary with input + monthly payment result\n",
    "\"\"\"\n",
    "def mortgage_calculator(p, i, n):\n",
    "    error_list = []\n",
    "    result_dict = {\"p\": p, \"i\": i, \"n\": n, \"m\":-1}\n",
    "    \n",
    "    # send error message to negative inputs and inputs = 0 to avoid an undefined answer\n",
    "    if p <= 0:\n",
    "        error_list.append(\"The principal loan amount must be greater than zero\")\n",
    "        \n",
    "    if i <= 0:\n",
    "        error_list.append(\"The interest rate must be higher than zero\")\n",
    "\n",
    "    if n <= 0:\n",
    "        error_list.append(\"The duration of the loan must be longer than 0 years\")\n",
    "        \n",
    "    if len(error_list) > 0:\n",
    "        for error in error_list:\n",
    "            print(error)\n",
    "\n",
    "    # exit out of the method\n",
    "        return result_dict\n",
    "\n",
    "    # convert yearly interest rate to monthly interest \n",
    "    # converting monthly interest rate into a decimal\n",
    "    mi = i / 100 / 12\n",
    "\n",
    "    # convert loan duration of years into months\n",
    "    n = n * 12\n",
    "\n",
    "    # calculate monthly payment\n",
    "    m = p * (mi * (1 + mi) ** n) / ((1 + mi) ** n - 1)\n",
    "\n",
    "    # round the decimal, m, to the hundreths place, representing cents\n",
    "    result_dict[\"m\"] = round(m, 2) \n",
    "\n",
    "    # return the entire dictionary\n",
    "    return result_dict"
   ]
  },
  {
   "cell_type": "code",
   "execution_count": 5,
   "id": "f57e7be1-e932-4f9a-a1e3-0313df3a2c58",
   "metadata": {},
   "outputs": [],
   "source": [
    "\"\"\"\n",
    "reject alphabetical inputs / special characters, and accept numbers only\n",
    "\"\"\"\n",
    "def get_input_num(prompt):\n",
    "    while True:\n",
    "        try:\n",
    "            val = float(input(prompt))\n",
    "        except ValueError:\n",
    "            print(f\"Must enter a number, without special characters\")\n",
    "        else:\n",
    "            break\n",
    "    return val"
   ]
  },
  {
   "cell_type": "code",
   "execution_count": 7,
   "id": "87a623bb-3738-46e4-8a5a-e7b5f671d754",
   "metadata": {},
   "outputs": [
    {
     "name": "stdin",
     "output_type": "stream",
     "text": [
      "Enter the principal amount: 3\n",
      "Enter the yearly interest rate: 2\n",
      "Enter the length of the loan in years: 3\n"
     ]
    },
    {
     "name": "stdout",
     "output_type": "stream",
     "text": [
      "Your monthly loan payment is $0.09\n"
     ]
    }
   ],
   "source": [
    "#ask users for input / main\n",
    "p = get_input_num(\"Enter the principal amount:\")\n",
    "i = get_input_num(\"Enter the yearly interest rate:\")\n",
    "n = get_input_num(\"Enter the length of the loan in years:\")\n",
    "\n",
    "# call the code and store the dictionary\n",
    "result_dict = mortgage_calculator(p, i, n) \n",
    "\n",
    "# the if statement checks that the other conditions did not fail\n",
    "if result_dict[\'m\'] > -1:\n",
    "    print(f\"Your monthly loan payment is ${result_dict[\"m\"]}\")"
   ]
  },
  {
   "cell_type": "code",
   "execution_count": null,
   "id": "6ce7db32-9b89-43bd-94c4-6a44d73ef8c2",
   "metadata": {},
   "outputs": [],
   "source": []
  }
 ],
 "metadata": {
  "kernelspec": {
   "display_name": "Python [conda env:base] *",
   "language": "python",
   "name": "conda-base-py"
  },
  "language_info": {
   "codemirror_mode": {
    "name": "ipython",
    "version": 3
   },
   "file_extension": ".py",
   "mimetype": "text/x-python",
   "name": "python",
   "nbconvert_exporter": "python",
   "pygments_lexer": "ipython3",
   "version": "3.12.7"
  }
 },
 "nbformat": 4,
 "nbformat_minor": 5
}
